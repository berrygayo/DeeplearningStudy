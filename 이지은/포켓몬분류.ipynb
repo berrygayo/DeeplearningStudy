{
  "nbformat": 4,
  "nbformat_minor": 0,
  "metadata": {
    "colab": {
      "name": "포켓몬분류.ipynb",
      "private_outputs": true,
      "provenance": [],
      "collapsed_sections": []
    },
    "kernelspec": {
      "display_name": "Python 3",
      "language": "python",
      "name": "python3"
    },
    "language_info": {
      "codemirror_mode": {
        "name": "ipython",
        "version": 3
      },
      "file_extension": ".py",
      "mimetype": "text/x-python",
      "name": "python",
      "nbconvert_exporter": "python",
      "pygments_lexer": "ipython3",
      "version": "3.7.4"
    }
  },
  "cells": [
    {
      "cell_type": "code",
      "metadata": {
        "id": "Ekv7zRWffzjo"
      },
      "source": [
        "# 포켓몬 이미지 분류기 "
      ],
      "execution_count": null,
      "outputs": []
    },
    {
      "cell_type": "code",
      "metadata": {
        "id": "ZGI2tlgWf5EV"
      },
      "source": [
        "from google.colab import drive\n",
        "drive.mount('/content/drive')                                       "
      ],
      "execution_count": null,
      "outputs": []
    },
    {
      "cell_type": "markdown",
      "metadata": {
        "id": "MzSWfUkOgBzB"
      },
      "source": [
        "# Data loading "
      ]
    },
    {
      "cell_type": "code",
      "metadata": {
        "id": "8ah4z6GcgJjn"
      },
      "source": [
        "# 판다스와 os 라이브러리를 불러온다\n",
        "import pandas as pd\n",
        "import os \n",
        "base_dir = '/content/drive/My Drive/Colab Notebooks' # 기본 디렉터리를 base_dir 변수에 저장\n",
        "\n",
        "pokemons = pd.read_csv(base_dir+'/pokemon.csv') # pokemons 변수에 csv를 넣는다\n",
        "\n",
        "numbers = [] # 빈 리스트를 만듦\n",
        "for i in range(1,pokemons.shape[0]+1): # 1부터 csv 파일의 행 수 + 1까지 i 를 증가시켜 가며 반복\n",
        "    numbers.append(i) # numbers에 새롭게 붙인다\n",
        "pokemons['pkn'] = numbers # pokemon 데이터프레임에 pkn이라는 변수에 numbers 리스트를 저장한다.\n",
        "IMG_DIR = base_dir + '/images/images' # IMG_DIR 변수에 '기본 디렉터리경로 + 이미지 폴더 내 이미지 폴더 경로'를 삽입\n",
        "\n",
        "\n",
        "from os import listdir #os 라이브러리 내 listdir 메소드를 가져온다.\n",
        "\n",
        "from os.path import isfile, join #os.path 라이브러리 내에 isfile, join 메소드를 가져온다\n",
        "\n",
        "onlyfiles = [f for f in listdir(IMG_DIR) if isfile(join(IMG_DIR, f))] #onlyfiles 변수에 ?????????"
      ],
      "execution_count": null,
      "outputs": []
    },
    {
      "cell_type": "code",
      "metadata": {
        "id": "_4x1rjtupI05"
      },
      "source": [
        "join(IMG_DIR, 'tyrunt.png')"
      ],
      "execution_count": null,
      "outputs": []
    },
    {
      "cell_type": "code",
      "metadata": {
        "id": "OSWdcDZWo7OW"
      },
      "source": [
        "listdir(IMG_DIR)"
      ],
      "execution_count": null,
      "outputs": []
    },
    {
      "cell_type": "code",
      "metadata": {
        "id": "gXiBFbTYpN-G"
      },
      "source": [
        "pokemons"
      ],
      "execution_count": null,
      "outputs": []
    },
    {
      "cell_type": "code",
      "metadata": {
        "id": "NJtrICFRdPkb"
      },
      "source": [
        "onlyfiles"
      ],
      "execution_count": null,
      "outputs": []
    },
    {
      "cell_type": "code",
      "metadata": {
        "id": "pgPVHAzRd6Eg"
      },
      "source": [
        "pkn"
      ],
      "execution_count": null,
      "outputs": []
    },
    {
      "cell_type": "code",
      "metadata": {
        "id": "q3I4gnFqg59Y"
      },
      "source": [
        "import re\n",
        "dataframe_img = pd.DataFrame([]) # 빈 데이터프레임을 하나 만들고 dataframe_img라는 이름의 변수 이름을 지정\n",
        "images = [] # images라는 빈 리스트를 만듦\n",
        "pokemon_name = [] # pokemon_name 이라는 빈 리스트를 만듦\n",
        "for img in onlyfiles: # onlyfiles 내에 있는 img 각각에 대해 아래 사항을 반복\n",
        "    if not re.search('-', img): # onlyfiles 안에 있는 img에서 '-'를 찾아서 없으면???\n",
        "        pkn = img.split('.') # pkn에 img를 .으로 나누어서 넣어라 ex) swalot.png 에서 .을 기준으로 앞에꺼는 name에 넣고, \n",
        "        name =  pkn[0]\n",
        "        path = IMG_DIR +'/' +str(img) #이미지 경로는 '기본 디렉터리경로 + 이미지 폴더 내 이미지 폴더 경로'/swalot.png\n",
        "        images.append(path) # images라는 리스트에 path를 하나씩 붙인다\n",
        "        pokemon_name.append(name) #pokemon_name이라는 리스트에 name을 하나씩 붙인다\n",
        "dataframe_img['images'] = images #dataframe_img라는 빈 데이터프레임 내에 images라는 변수에 images 리스트(path로 채웠음)를 넣는다\n",
        "dataframe_img['Name'] = pokemon_name #dataframe_img라는 빈 데이터프레임 내에 'Name'이라는 변수에 pokemon_name 리스트(포켓몬 이름으로 채웠음)를 넣는다.\n",
        "\n",
        "result = pokemons.merge(dataframe_img, left_on='Name', right_on='Name') # result 라는 변수에 pokemons 데이터프레임과 방금 만든 dataframe_img를 좌우병합. 병합 시 기준은 모두 Name 변수\n",
        "result.head() # result의 첫 5개 행을 보자.\n",
        "\n",
        "############################################################호섭님\n",
        "img = []\n",
        "\n",
        "for pokemon in pokemons['Name']:\n",
        "    if str(pokemon)+'.png' in onlyfiles:\n",
        "        img.append('data/images/images/'+str(pokemon)+'.png')\n",
        "    else:\n",
        "        img.append('data/images/imgeas/'+str(pokemon)+'.jpg')\n",
        "        \n",
        "pokemons['img'] = img\n"
      ],
      "execution_count": null,
      "outputs": []
    },
    {
      "cell_type": "markdown",
      "metadata": {
        "id": "5OWdqr1RvWed"
      },
      "source": [
        "# 시각화"
      ]
    },
    {
      "cell_type": "code",
      "metadata": {
        "id": "8DF6gPgjgB5R"
      },
      "source": [
        "import seaborn as sns #seaborn 라이브러리를 불러온다\n",
        "import matplotlib.pyplot as plt # matplotlib.pyplot을 불러온다\n",
        "\n",
        "select = ['Water', 'Fire'] # 물과 불로 이루어진 리스트를 select 변수에 넣음\n",
        "result = result[result['Type1'].isin(select)] \n",
        "# result의 Type1 변수에 Water나 Fire가 들어가있는 데이터를 result로 만듦. 덮어씀. 왜?\n",
        "sns.countplot(x='Type1', data=result) # 빈도 그래프. x축 이름, 데이터 지정\n",
        "plt.title(\"Water vs Fire, count plot\") # 그래프 제목 달기\n",
        "plt.show() # 그래프를 화면에 표시"
      ],
      "execution_count": null,
      "outputs": []
    },
    {
      "cell_type": "markdown",
      "metadata": {
        "id": "i8oQvbiEgB7X"
      },
      "source": [
        "# split data "
      ]
    },
    {
      "cell_type": "code",
      "metadata": {
        "id": "Tpq0TbHYxIVr"
      },
      "source": [
        "import os\n",
        "from shutil import copyfile\n",
        "os.mkdir('train/')\n",
        "os.mkdir('test/')\n",
        "os.mkdir('val/')\n",
        "for class_ in result['Type1'].unique():\n",
        "    os.mkdir('train/'+str(class_)+'/')\n",
        "    os.mkdir('test/'+str(class_)+'/')\n",
        "    os.mkdir('val/'+str(class_)+'/')"
      ],
      "execution_count": null,
      "outputs": []
    },
    {
      "cell_type": "code",
      "metadata": {
        "id": "4pkxvERtxIX_"
      },
      "source": [
        "from sklearn.model_selection import train_test_split\n",
        "X_train, X_test, y_train, y_test = train_test_split(\n",
        "    result, result['Type1'],test_size=0.33, stratify=result['Type1'])\n",
        "\n",
        "X_test, X_val, y_test, y_val = train_test_split(\n",
        "    X_test, y_test, test_size=0.33,stratify=y_test)"
      ],
      "execution_count": null,
      "outputs": []
    },
    {
      "cell_type": "code",
      "metadata": {
        "id": "cScf2o3WxIaJ"
      },
      "source": [
        "from shutil import copyfile, copy2\n",
        "\n",
        "for image,type_  in zip(X_train['images'], y_train):\n",
        "    copy2(image, 'train/'+type_)\n",
        "\n",
        "for image,type_ in zip(X_test['images'], y_test):\n",
        "    copy2(image, 'test/'+type_)\n",
        "    \n",
        "for image,type_ in zip(X_val['images'], y_val):\n",
        "    copy2(image, 'val/'+type_)"
      ],
      "execution_count": null,
      "outputs": []
    },
    {
      "cell_type": "code",
      "metadata": {
        "scrolled": true,
        "id": "4-6n3BYNso_D"
      },
      "source": [
        "# ModuleNotFoundError: No module named 'keras' 해결\n",
        "pip install  keras"
      ],
      "execution_count": null,
      "outputs": []
    },
    {
      "cell_type": "code",
      "metadata": {
        "id": "CEjvoYxJso_E"
      },
      "source": [
        "# No module named 'tensorflow' 해결\n",
        "#pip install tensorflow --ignore-installed --user\n",
        "#pip install tensorflow --user\n",
        "#pip show tensorflow\n",
        "conda create -n tensorflow"
      ],
      "execution_count": null,
      "outputs": []
    },
    {
      "cell_type": "code",
      "metadata": {
        "id": "yi2MuVcBxIcC"
      },
      "source": [
        "from keras.preprocessing.image import ImageDataGenerator\n",
        "datagen = ImageDataGenerator()\n",
        "\n",
        "train = datagen.flow_from_directory('train/')\n",
        "test = datagen.flow_from_directory('test/')\n",
        "val = datagen.flow_from_directory('val/')"
      ],
      "execution_count": null,
      "outputs": []
    },
    {
      "cell_type": "markdown",
      "metadata": {
        "id": "EzPqsSWExId_"
      },
      "source": [
        "# modeling"
      ]
    },
    {
      "cell_type": "code",
      "metadata": {
        "id": "-ho0-2HzxIgK"
      },
      "source": [
        "from keras.models import Sequential\n",
        "from keras.layers import Conv2D, MaxPooling2D, Dropout, Flatten, Dense, Activation, BatchNormalization, Lambda\n",
        "from keras.preprocessing.image import ImageDataGenerator\n",
        "\n",
        "def build():\n",
        "    model = Sequential()\n",
        "    IMAGE_WIDTH = 256\n",
        "    IMAGE_HEIGHT = 256\n",
        "    IMAGE_CHANNELS = 3\n",
        "    model.add(Lambda(lambda x: x, input_shape=(IMAGE_WIDTH, IMAGE_HEIGHT, IMAGE_CHANNELS)))\n",
        "    model.add(Conv2D(32, (2, 2), activation='relu'))\n",
        "    model.add(BatchNormalization())\n",
        "    model.add(MaxPooling2D(pool_size=(3, 3)))\n",
        "    model.add(Dropout(0.25))\n",
        "\n",
        "    model.add(Conv2D(64, (2, 2), activation='relu'))\n",
        "    model.add(BatchNormalization())\n",
        "    model.add(MaxPooling2D(pool_size=(3, 3)))\n",
        "    model.add(Dropout(0.25))\n",
        "\n",
        "    model.add(Conv2D(128, (2, 2), activation='relu'))\n",
        "    model.add(BatchNormalization())\n",
        "    model.add(MaxPooling2D(pool_size=(3, 3)))\n",
        "    model.add(Dropout(0.25))\n",
        "\n",
        "    model.add(Flatten())\n",
        "    model.add(Dense(512, activation='relu'))\n",
        "    model.add(BatchNormalization())\n",
        "    model.add(Dropout(0.5))\n",
        "    model.add(Dense(2, activation='softmax')) \n",
        "\n",
        "    model.compile(loss='binary_crossentropy', optimizer='adam', metrics=['acc'])\n",
        "\n",
        "    model.summary()\n",
        "    return model\n",
        "model = build()\n",
        "history = model.fit_generator(train, epochs=30, validation_data=val)"
      ],
      "execution_count": null,
      "outputs": []
    },
    {
      "cell_type": "code",
      "metadata": {
        "id": "mCYDZe4axIiK"
      },
      "source": [
        "predict = model.predict_generator(test)"
      ],
      "execution_count": null,
      "outputs": []
    },
    {
      "cell_type": "code",
      "metadata": {
        "id": "_JFwu25qzN77"
      },
      "source": [
        "from sklearn.metrics import classification_report\n",
        "import numpy as np \n",
        "predict_frame = pd.DataFrame([])\n",
        "predict_frame['category'] = np.argmax(predict, axis=-1)\n",
        "labels = dict((v,k) for k,v in val.class_indices.items())\n",
        "predict_frame['category'] = predict_frame['category'].replace(labels)\n",
        "print(classification_report(y_test, predict_frame['category']))"
      ],
      "execution_count": null,
      "outputs": []
    },
    {
      "cell_type": "markdown",
      "metadata": {
        "id": "OS65P8U4xZGZ"
      },
      "source": [
        "# test"
      ]
    },
    {
      "cell_type": "code",
      "metadata": {
        "id": "hlZ6CX0ExZIv"
      },
      "source": [
        "def show_wrong_classification(y_test, predict, result):\n",
        "    tmp = result[result.index.isin(y_test.index)]\n",
        "    fig, ax = plt.subplots(nrows=1, ncols=3, figsize=(20, 20))\n",
        "    i=0\n",
        "    for imag, true, pred in zip(tmp['images'], tmp['Type1'], predict):\n",
        "        if true!=pred:\n",
        "            if i <3:\n",
        "                img = Image.open(imag)\n",
        "                fig = plt.figure()\n",
        "                ax[i].imshow(img)\n",
        "                ax[i].set_title(str(pred))\n",
        "                i+=1"
      ],
      "execution_count": null,
      "outputs": []
    },
    {
      "cell_type": "code",
      "metadata": {
        "id": "XZz74vqkxZKN"
      },
      "source": [
        "from PIL import Image\n",
        "show_wrong_classification(y_test, predict_frame['category'], result)"
      ],
      "execution_count": null,
      "outputs": []
    },
    {
      "cell_type": "code",
      "metadata": {
        "id": "dSeZ-cgaxZMc"
      },
      "source": [
        "import seaborn as sns\n",
        "import matplotlib.pyplot as plt\n",
        "\n",
        "fig, axes = plt.subplots(2,3,figsize=(15,10))\n",
        "k =0\n",
        "import cv2\n",
        "list_b =[]\n",
        "list_r = []\n",
        "list_g = []\n",
        "from tqdm import tqdm\n",
        "for type_ in tqdm(result['Type1'].unique()):\n",
        "    tmp = result[result['Type1']==type_]\n",
        "    for img in tmp['images']:\n",
        "        img = cv2.imread(img)\n",
        "        b, g, r = cv2.split(img)\n",
        "        color = 'blue'\n",
        "        for i in b:\n",
        "            for j in i:\n",
        "                if j != 0:\n",
        "                    list_b.append(j)\n",
        "        color = 'green'\n",
        "        for i in g:\n",
        "            for j in i:\n",
        "                if j != 0:\n",
        "                    list_g.append(j)\n",
        "        color = 'red'\n",
        "        for i in r:\n",
        "            for j in i:\n",
        "                if j != 0:\n",
        "                    list_r.append(j)\n",
        "    sns.distplot(list_g, ax=axes[k, 0], color='g')\n",
        "    sns.distplot(list_b, ax=axes[k, 1], color='b')\n",
        "    sns.distplot(list_r, ax=axes[k, 2], color='r')\n",
        "    axes[k, 0].set_title('Pokemon type color channel ' + type_)\n",
        "    if type_ =='Fire':\n",
        "        list_g_f = list_g\n",
        "        list_b_f = list_b\n",
        "        list_r_f = list_r\n",
        "    else:\n",
        "        list_g_w = list_g\n",
        "        list_b_w = list_b\n",
        "        list_r_w = list_r\n",
        "    list_b =[]\n",
        "    list_r = []\n",
        "    list_g = []\n",
        "    \n",
        "    k += 1"
      ],
      "execution_count": null,
      "outputs": []
    },
    {
      "cell_type": "code",
      "metadata": {
        "id": "SPysNBDixq5d"
      },
      "source": [
        "import plotly.graph_objects as go\n",
        "from plotly.subplots import make_subplots\n",
        "\n",
        "g_fire = np.std(np.array(list_g_f), axis=0)\n",
        "r_fire = np.std(np.array(list_r_f), axis=0)\n",
        "b_fire = np.std(np.array(list_b_f), axis=0)\n",
        "\n",
        "\n",
        "g_water = np.std(np.array(list_g_w), axis=0)\n",
        "r_water = np.std(np.array(list_r_w), axis=0)\n",
        "b_water = np.std(np.array(list_b_w), axis=0)\n",
        "\n",
        "fig = make_subplots(rows=1, cols=2, subplot_titles=(\"Fire std channel\",\"Water std channel\"))\n",
        "fig.add_trace(go.Scatter(\n",
        "    y=[b_fire, g_fire, g_fire],\n",
        "    x=['blue', 'green', 'red'],\n",
        "    mode='markers',\n",
        "    marker=dict(size=[b_fire, g_fire, r_fire],\n",
        "                color=['blue', 'green', 'red'],\n",
        "                showscale=True)\n",
        "), row=1, col=1)\n",
        "\n",
        "fig.add_trace(go.Scatter(\n",
        "    y=[b_water, g_water, r_water],\n",
        "    x=['blue', 'green', 'red'],\n",
        "    mode='markers',\n",
        "    marker=dict(size=[b_water, g_water, r_water],\n",
        "                color=['blue', 'green', 'red'],\n",
        "                showscale=True)\n",
        "), row=1, col=2)\n",
        "fig.update_layout(showlegend=False)\n",
        "fig.update_layout({\n",
        "        'plot_bgcolor': 'rgba(0, 0, 0, 0)',\n",
        "        'paper_bgcolor': 'rgba(0, 0, 0, 0)',\n",
        "        'width': 850, \n",
        "        'height': 400\n",
        "\n",
        "})\n",
        "fig.show()"
      ],
      "execution_count": null,
      "outputs": []
    },
    {
      "cell_type": "code",
      "metadata": {
        "id": "q4zhh1EIxq7-"
      },
      "source": [
        "water = result[result['Type1']=='Water']\n",
        "stds = []\n",
        "values = []\n",
        "for image in water['images']:\n",
        "    img = cv2.imread(image)\n",
        "    b, g, r = cv2.split(img)\n",
        "    for i in r:\n",
        "        for j in i:\n",
        "            if j != 0:\n",
        "                stds.append(j)       \n",
        "    std = np.mean(np.array(stds), axis=0)\n",
        "    values.append(std)\n",
        "    stds = []\n",
        "water['stds'] = values"
      ],
      "execution_count": null,
      "outputs": []
    },
    {
      "cell_type": "code",
      "metadata": {
        "id": "Si_vbHrOxq99"
      },
      "source": [
        "water = water.sort_values(by='stds', ascending=False)"
      ],
      "execution_count": null,
      "outputs": []
    },
    {
      "cell_type": "code",
      "metadata": {
        "id": "Zr3DX2oGxrAD"
      },
      "source": [
        "i = 0\n",
        "j = 0\n",
        "fig, ax = plt.subplots(nrows=2, ncols=3, figsize=(20, 20))\n",
        "for imag in water['images']:\n",
        "    if i == 1 and j ==3:\n",
        "        break\n",
        "    if j > 2:\n",
        "        i =1\n",
        "        j = 0\n",
        "    img = Image.open(imag)\n",
        "    fig = plt.figure()\n",
        "    ax[i][j].imshow(img)\n",
        "    j+=1"
      ],
      "execution_count": null,
      "outputs": []
    },
    {
      "cell_type": "code",
      "metadata": {
        "id": "OXOXcFkmxrCJ"
      },
      "source": [
        "fire = result[result['Type1']=='Fire']\n",
        "stds = []\n",
        "values = []\n",
        "for image in fire['images']:\n",
        "    img = cv2.imread(image)\n",
        "    b, g, r = cv2.split(img)\n",
        "    for i in b:\n",
        "        for j in i:\n",
        "            if j != 0:\n",
        "                stds.append(j)       \n",
        "    std = np.mean(np.array(stds), axis=0)\n",
        "    values.append(std)\n",
        "    stds = []\n",
        "fire['stds'] = values\n",
        "fire = fire.sort_values(by='stds', ascending=False)\n",
        "i = 0\n",
        "j = 0\n",
        "fig, ax = plt.subplots(nrows=2, ncols=3, figsize=(20, 20))\n",
        "for imag in fire['images']:\n",
        "    if i == 1 and j ==3:\n",
        "        break\n",
        "    if j > 2:\n",
        "        i =1\n",
        "        j = 0\n",
        "    img = Image.open(imag)\n",
        "    fig = plt.figure()\n",
        "    ax[i][j].imshow(img)\n",
        "    j+=1"
      ],
      "execution_count": null,
      "outputs": []
    },
    {
      "cell_type": "code",
      "metadata": {
        "id": "2yGhyUK50CKX"
      },
      "source": [
        ""
      ],
      "execution_count": null,
      "outputs": []
    },
    {
      "cell_type": "code",
      "metadata": {
        "id": "jIZGNS9D0CNf"
      },
      "source": [
        ""
      ],
      "execution_count": null,
      "outputs": []
    },
    {
      "cell_type": "code",
      "metadata": {
        "id": "Ucf0ACiR0CPV"
      },
      "source": [
        ""
      ],
      "execution_count": null,
      "outputs": []
    },
    {
      "cell_type": "code",
      "metadata": {
        "id": "dHwPudH_0CQ-"
      },
      "source": [
        ""
      ],
      "execution_count": null,
      "outputs": []
    },
    {
      "cell_type": "code",
      "metadata": {
        "id": "fIDFeBpv0CTh"
      },
      "source": [
        ""
      ],
      "execution_count": null,
      "outputs": []
    },
    {
      "cell_type": "code",
      "metadata": {
        "id": "5zxhY7xX0CVz"
      },
      "source": [
        ""
      ],
      "execution_count": null,
      "outputs": []
    },
    {
      "cell_type": "markdown",
      "metadata": {
        "id": "TCNepQl10CXl"
      },
      "source": [
        "## next time"
      ]
    },
    {
      "cell_type": "markdown",
      "metadata": {
        "id": "hC36Y4QfxrEb"
      },
      "source": [
        "# Data Augmentation "
      ]
    },
    {
      "cell_type": "markdown",
      "metadata": {
        "id": "CaXN_8jOx42h"
      },
      "source": [
        "##brightness"
      ]
    },
    {
      "cell_type": "code",
      "metadata": {
        "id": "0-80_o7tx29L"
      },
      "source": [
        "# example of horizontal shift image augmentation\n",
        "from numpy import expand_dims\n",
        "from keras.preprocessing.image import load_img\n",
        "from keras.preprocessing.image import img_to_array\n",
        "from keras.preprocessing.image import ImageDataGenerator\n",
        "from matplotlib import pyplot\n",
        "img = load_img(water['images'][170])\n",
        "data = img_to_array(img)\n",
        "samples = expand_dims(data, 0)\n",
        "datagen = ImageDataGenerator(brightness_range=[0.2,1.5])\n",
        "it = datagen.flow(samples, batch_size=1)\n",
        "fig, ax = plt.subplots(nrows=1, ncols=3, figsize=(20, 20))\n",
        "for i in range(3):\n",
        "    fig = plt.figure()\n",
        "    batch = it.next()\n",
        "    image = batch[0].astype('uint8')\n",
        "    ax[i].imshow(image)\n",
        "pyplot.show()"
      ],
      "execution_count": null,
      "outputs": []
    },
    {
      "cell_type": "markdown",
      "metadata": {
        "id": "CuYZzvLnx2_9"
      },
      "source": [
        "## zoom"
      ]
    },
    {
      "cell_type": "code",
      "metadata": {
        "id": "5PuuQBh0x3Bd"
      },
      "source": [
        "img = load_img(fire['images'][156])\n",
        "data = img_to_array(img)\n",
        "samples = expand_dims(data, 0)\n",
        "datagen = ImageDataGenerator(zoom_range=[0.5, 1.0])\n",
        "it = datagen.flow(samples, batch_size=1)\n",
        "fig, ax = plt.subplots(nrows=1, ncols=3, figsize=(20, 20))\n",
        "for i in range(3):\n",
        "    fig = plt.figure()\n",
        "    batch = it.next()\n",
        "    image = batch[0].astype('uint8')\n",
        "    ax[i].imshow(image)\n",
        "pyplot.show()"
      ],
      "execution_count": null,
      "outputs": []
    },
    {
      "cell_type": "markdown",
      "metadata": {
        "id": "B1wRylE9x3ED"
      },
      "source": [
        "## rotation "
      ]
    },
    {
      "cell_type": "code",
      "metadata": {
        "id": "EMBJ-VaMx3Fx"
      },
      "source": [
        "img = load_img(water['images'][118])\n",
        "data = img_to_array(img)\n",
        "samples = expand_dims(data, 0)\n",
        "datagen = ImageDataGenerator(rotation_range=35)\n",
        "it = datagen.flow(samples, batch_size=1)\n",
        "fig, ax = plt.subplots(nrows=1, ncols=3, figsize=(20, 20))\n",
        "for i in range(3):\n",
        "    fig = plt.figure()\n",
        "    batch = it.next()\n",
        "    image = batch[0].astype('uint8')\n",
        "    ax[i].imshow(image)\n",
        "pyplot.show()"
      ],
      "execution_count": null,
      "outputs": []
    },
    {
      "cell_type": "code",
      "metadata": {
        "id": "CLfAwg02x3H-"
      },
      "source": [
        "datagentrain = ImageDataGenerator(rotation_range=35, \n",
        "                                 zoom_range=[0.5, 1.0], \n",
        "                                 brightness_range=[0.2,1.5])\n",
        "\n",
        "datagen = ImageDataGenerator()\n",
        "\n",
        "train = datagentrain.flow_from_directory('train/')\n",
        "test = datagen.flow_from_directory('test/')\n",
        "val = datagen.flow_from_directory('val/')"
      ],
      "execution_count": null,
      "outputs": []
    },
    {
      "cell_type": "code",
      "metadata": {
        "id": "dxvTvukdx3J_"
      },
      "source": [
        "model = build()\n",
        "history = model.fit_generator(train, epochs=30, validation_data=val)"
      ],
      "execution_count": null,
      "outputs": []
    },
    {
      "cell_type": "code",
      "metadata": {
        "id": "h1HPqebsx3MM"
      },
      "source": [
        "fig = go.Figure()\n",
        "epochs = []\n",
        "for i in range(len(history.history['acc'])):\n",
        "    epochs.append(i)\n",
        "fig.add_trace(go.Scatter(x=epochs,y=history.history['acc'], mode='lines',name='train'))\n",
        "fig.add_trace(go.Scatter(x=epochs,y=history.history['val_acc'], mode='lines',name='val'))\n",
        "fig.update_layout({\n",
        "        'plot_bgcolor': 'rgba(0, 0, 0, 0)',\n",
        "        'paper_bgcolor': 'rgba(0, 0, 0, 0)',\n",
        "        'width': 500, \n",
        "        'height': 400\n",
        "\n",
        "})\n",
        "fig.show()"
      ],
      "execution_count": null,
      "outputs": []
    },
    {
      "cell_type": "code",
      "metadata": {
        "id": "aHx_nYBPyE3V"
      },
      "source": [
        "predict_frame = pd.DataFrame([])\n",
        "predict = model.predict_generator(test)\n",
        "predict_frame['category'] = np.argmax(predict, axis=-1)\n",
        "labels = dict((v,k) for k,v in val.class_indices.items())\n",
        "predict_frame['category'] = predict_frame['category'].replace(labels)\n",
        "print(classification_report(y_test, predict_frame['category']))"
      ],
      "execution_count": null,
      "outputs": []
    },
    {
      "cell_type": "code",
      "metadata": {
        "id": "-JvcUSyFyE5Y"
      },
      "source": [
        "show_wrong_classification(y_test, predict_frame['category'], result)"
      ],
      "execution_count": null,
      "outputs": []
    },
    {
      "cell_type": "code",
      "metadata": {
        "id": "tg19-1eeyE7y"
      },
      "source": [
        ""
      ],
      "execution_count": null,
      "outputs": []
    },
    {
      "cell_type": "code",
      "metadata": {
        "id": "h8294BYqyE93"
      },
      "source": [
        ""
      ],
      "execution_count": null,
      "outputs": []
    },
    {
      "cell_type": "code",
      "metadata": {
        "id": "f55bTFzByE_-"
      },
      "source": [
        ""
      ],
      "execution_count": null,
      "outputs": []
    },
    {
      "cell_type": "code",
      "metadata": {
        "id": "EqFC1DJiyFCS"
      },
      "source": [
        ""
      ],
      "execution_count": null,
      "outputs": []
    },
    {
      "cell_type": "code",
      "metadata": {
        "id": "94aTdks1yFEQ"
      },
      "source": [
        ""
      ],
      "execution_count": null,
      "outputs": []
    }
  ]
}