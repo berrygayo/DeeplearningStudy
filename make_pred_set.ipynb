{
  "nbformat": 4,
  "nbformat_minor": 0,
  "metadata": {
    "colab": {
      "name": "make_pred_set.ipynb",
      "private_outputs": true,
      "provenance": [],
      "mount_file_id": "1Hx-fedaeo3QqaxnRzxms2rLefTqh2PuZ",
      "authorship_tag": "ABX9TyNgsUtOZ4R+mgvUKSGRkfow",
      "include_colab_link": true
    },
    "kernelspec": {
      "name": "python3",
      "display_name": "Python 3"
    },
    "language_info": {
      "name": "python"
    }
  },
  "cells": [
    {
      "cell_type": "markdown",
      "metadata": {
        "id": "view-in-github",
        "colab_type": "text"
      },
      "source": [
        "<a href=\"https://colab.research.google.com/github/berrygayo/DeeplearningStudy/blob/main/make_pred_set.ipynb\" target=\"_parent\"><img src=\"https://colab.research.google.com/assets/colab-badge.svg\" alt=\"Open In Colab\"/></a>"
      ]
    },
    {
      "cell_type": "markdown",
      "metadata": {
        "id": "PG5b6_P__7bt"
      },
      "source": [
        "# test, pred 비교 dt 만들기 \n"
      ]
    },
    {
      "cell_type": "code",
      "metadata": {
        "id": "Jbpv_MQsAO08"
      },
      "source": [
        "import pickle \n",
        "from joblib import dump, load\n",
        "import pandas as pd"
      ],
      "execution_count": null,
      "outputs": []
    },
    {
      "cell_type": "code",
      "metadata": {
        "id": "Mw95Djl5AVQ7"
      },
      "source": [
        "test = pd.read_csv('/content/drive/MyDrive/Bigdata_study/딥러닝스터디-빅분기/자전거수요예측/전처리 완료된 testset.csv')\n",
        "test.head()"
      ],
      "execution_count": null,
      "outputs": []
    },
    {
      "cell_type": "code",
      "metadata": {
        "id": "UmsolzVQAnnO"
      },
      "source": [
        "test_df = test[['year', 'rainyday', 'temp_scaled', 'h_0', 'h_1', 'h_2', 'h_3', 'h_4',\n",
        "       'h_5', 'h_6', 'h_7', 'h_8', 'h_9', 'h_10', 'h_11', 'h_12', 'h_13',\n",
        "       'h_14', 'h_15', 'h_16', 'h_17', 'h_18', 'h_19', 'h_20', 'h_21', 'h_22',\n",
        "       'h_23', 'hw_0', 'hw_1', 'hw_2', 'hw_3', 'hw_4', 'hw_5', 'hw_6', 'hw_7',\n",
        "       'hw_8', 'hw_9', 'hw_10', 'hw_11', 'hw_12', 'hw_13', 'hw_14', 'hw_15',\n",
        "       'hw_16', 'hw_17', 'hw_18', 'hw_19', 'hw_20', 'hw_21', 'hw_22', 'hw_23']]"
      ],
      "execution_count": null,
      "outputs": []
    },
    {
      "cell_type": "code",
      "metadata": {
        "id": "1mPB7cdIAB8d"
      },
      "source": [
        "###################################################      model loading    ################################################\n",
        "clf_from_joblib = load('/content/drive/MyDrive/Bigdata_study/딥러닝스터디-빅분기/자전거수요예측/voting_rf_lr_gb.pkl') \n",
        "pred_voting = clf_from_joblib.predict(test_df)"
      ],
      "execution_count": null,
      "outputs": []
    },
    {
      "cell_type": "code",
      "metadata": {
        "id": "r2gVVfRWAB-a"
      },
      "source": [
        "test['pred_voting'] = pred_voting"
      ],
      "execution_count": null,
      "outputs": []
    },
    {
      "cell_type": "code",
      "metadata": {
        "id": "BH3T4LWRBZ2y"
      },
      "source": [
        "result = test[['datetime','pred_voting']]\n",
        "result.columns= ['datetime','count']"
      ],
      "execution_count": null,
      "outputs": []
    },
    {
      "cell_type": "code",
      "metadata": {
        "id": "J2RvkcxQClGU"
      },
      "source": [
        "result"
      ],
      "execution_count": null,
      "outputs": []
    },
    {
      "cell_type": "code",
      "metadata": {
        "id": "NIgZbrAQBhKA"
      },
      "source": [
        "result.to_csv('/content/drive/MyDrive/Bigdata_study/딥러닝스터디-빅분기/자전거수요예측/result_2021_11_23_3_ensemble_model.csv',index=False)"
      ],
      "execution_count": null,
      "outputs": []
    }
  ]
}