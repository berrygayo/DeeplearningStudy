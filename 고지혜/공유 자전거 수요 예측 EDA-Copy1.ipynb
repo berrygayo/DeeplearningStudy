{
 "cells": [
  {
   "cell_type": "markdown",
   "id": "duplicate-acoustic",
   "metadata": {},
   "source": [
    "# 공유 자전거 수요 예측\n",
    "\n",
    "### kaggle의 bike sharing demand 데이터를 활용한 EDA 진행\n",
    "\n",
    "1시간동안 bike sharing demand의 EDA를 진행해보세요.\n",
    "\n",
    "자료는 https://www.kaggle.com/c/bike-sharing-demand/data?select=train.csv 에서 다운로드 가능합니다.\n",
    "\n",
    "기본적인 EDA부터 파생변수에 대한 고민까지 자유로운 분석 활동이 되면 좋겠습니다."
   ]
  },
  {
   "cell_type": "markdown",
   "id": "downtown-pilot",
   "metadata": {},
   "source": [
    "#### Raw Data\n",
    "\n",
    "1. datetime    : 시간.     연-월-일 시:분:초로 표현 (ex. 2018-11-01 00:00:00)\n",
    "2. season      : 계절.     봄(1), 여름(2), 가을(3), 겨울(4)\n",
    "3. holiday     : 공휴일.   공휴일(1), 공휴일X(0)\n",
    "4. workingday  : 근무일.   근무일(1), 근무일X(0)\n",
    "5. weather     : 날씨      \n",
    "(1) 아주 깨끗한 날씨. 또는 아주 약간의 구름 (2) 약간의 안개와 구름이 끼어있는 날씨\n",
    "(3) 약간의 눈, 비가 오거나 천둥 (4) 아주 많은 비가 오거나 우박\n",
    "6. temp        : 온도.     섭씨(Celsius)\n",
    "7. atemp       : 체감온도. 섭씨(Celsius)\n",
    "8. humiduty    : 습도\n",
    "9. windspped   : 풍속\n",
    "10. casual     : 비회원(non-resigtered)의 자전거 대여량\n",
    "11. resistered : 회원(registered)의 자전거 대여량\n",
    "12. count      : 총 자전거 대여량. 비회원(casual) + 회원(resistered)와 동일\n",
    "                  \n",
    "                        \n"
   ]
  },
  {
   "cell_type": "code",
   "execution_count": null,
   "id": "awful-illinois",
   "metadata": {},
   "outputs": [],
   "source": []
  }
 ],
 "metadata": {
  "kernelspec": {
   "display_name": "Python 3",
   "language": "python",
   "name": "python3"
  },
  "language_info": {
   "codemirror_mode": {
    "name": "ipython",
    "version": 3
   },
   "file_extension": ".py",
   "mimetype": "text/x-python",
   "name": "python",
   "nbconvert_exporter": "python",
   "pygments_lexer": "ipython3",
   "version": "3.8.5"
  }
 },
 "nbformat": 4,
 "nbformat_minor": 5
}
